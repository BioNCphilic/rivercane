{
 "cells": [
  {
   "cell_type": "markdown",
   "metadata": {},
   "source": [
    "## Rivercane is native to 22 states in the US and has been reduced to 2% of it's original range (Sharma, 2003). This project will explore habitats that might be suitable for restoration efforts in the future.\n",
    "\n",
    "### Habitat suitability will be compared between two areas in the United States; specifically, midwestern grassland habitats and riparian habitats in the southeast."
   ]
  },
  {
   "cell_type": "markdown",
   "metadata": {},
   "source": [
    "<!-- Define your study area\n",
    "\n",
    "Fit a model: \n",
    "\n",
    "Download model variables as raster layers covering your study area envelope:\n",
    "\n",
    "Calculate at least one derived topographic variable (slope or aspect)\n",
    "\n",
    "Harmonize your data - make sure that the grids for each of your layers match up. \n",
    "\n",
    "Build your model\n",
    "\n",
    "Present your results in at least one figure for each grassland/climate scenario combination.  -->"
   ]
  },
  {
   "cell_type": "markdown",
   "metadata": {},
   "source": [
    "## Information Sources\n",
    "* Sharma, Sanjeev. 2023, \"PROPAGATION, PHYSIOLOGY, AND BIOMASS OF GIANT CANE (ARUNDINARIA GIGANTEA) FOR CONSERVATION AND RESTORATION\", A Master’s Thesis Presented to The Graduate College of Missouri State University. accessed online at: https://bearworks.missouristate.edu/cgi/viewcontent.cgi?article=4887&context=theses\n",
    "* Watershed Boundary Dataset (WBD) (12-digit HUC, level 6, Southeastern USA) accessed online at: https://databasin.org/datasets/505e6e683e664925b2032e217c7edfe8/"
   ]
  },
  {
   "cell_type": "markdown",
   "metadata": {},
   "source": [
    "In this project, the two areas to be studyed are based upon ecological and cultural factors. The two study areas include a region in Oklahoma and one in North Carolina where present day Cherokee People reside and the elevation is under 2,000 feet in soils and riparian areas that could support native rivercane.\n",
    "\n",
    "A model will be used to:\n",
    "* analyze slope and aspect of the terrain\n",
    "* harmonize data from different sources\n",
    "* determine the feasibility of restoration efforts in both locations"
   ]
  }
 ],
 "metadata": {
  "kernelspec": {
   "display_name": "earth-analytics-python",
   "language": "python",
   "name": "python3"
  },
  "language_info": {
   "name": "python",
   "version": "3.11.10"
  }
 },
 "nbformat": 4,
 "nbformat_minor": 2
}
