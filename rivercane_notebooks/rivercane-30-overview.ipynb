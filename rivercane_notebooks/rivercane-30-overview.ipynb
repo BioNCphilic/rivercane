{
 "cells": [
  {
   "cell_type": "markdown",
   "metadata": {},
   "source": [
    "## Rivercane is native to 22 states in the US and has been reduced to 2% of it's original range (Sharma, 2003). This project will explore habitats that might be suitable for restoration efforts in the future based upon two different climate predictions.\n",
    "\n",
    "### Habitat suitability will be compared between two counties in the United States; specifically, Cherokee County, Oklahoma and Jackson County, North Carolina. These areas were chosen because they are inhabited by Cherokee people who use native Rivercane for a variety of cultural purposes. For each location, soil data and elevation will be analyzed and two climate models will be used to look at different predictions for precipitation at the end of the century (2096-2099). The two models chosen were:\n",
    "1. The Model for Interdisciplinary Research on Climate version 5, which was developed by the Center for Climate System Research (CCSR) at the University of Tokyo, Japan. \n",
    "2. The Geophysical Fluid Dynamics Laboratory (GFDL) Earth System Model GFDL-ESM2M (GFDL-ESM2M)  developed by  of the National Oceanic and Atmospheric Administration (NOAA).\n"
   ]
  },
  {
   "cell_type": "markdown",
   "metadata": {},
   "source": [
    "## Information Sources\n",
    "* Sharma, Sanjeev. 2023, \"PROPAGATION, PHYSIOLOGY, AND BIOMASS OF GIANT CANE (ARUNDINARIA GIGANTEA) FOR CONSERVATION AND RESTORATION\", A Master’s Thesis Presented to The Graduate College of Missouri State University. accessed online at: https://bearworks.missouristate.edu/cgi/viewcontent.cgi?article=4887&context=theses\n",
    "* US Census, 2024 \"TIGER/Line Shapefiles\" accessed online: https://www.census.gov/geographies/mapping-files/time-series/geo/tiger-line-file.html\n",
    "* POLARIS: A 30-meter probabilistic soil series map of the contiguous United States\n",
    "By: Nathaniel W. Chaney, Eric F Wood, Alexander B McBratney, Jonathan W Hempel, Travis W. Nauman, Colby W. Brungard, and Nathan P Odgers\n",
    "https://doi.org/10.1016/j.geoderma.2016.03.025\n",
    "* earthaccess python library available online at: https://earthaccess.readthedocs.io/en/latest/\n",
    "* The Climate Model Intercomparison Project, available online at: http://thredds.northwestknowledge.net:8080/thredds/reacch_climate_CMIP5_macav2_catalog2.html"
   ]
  },
  {
   "cell_type": "markdown",
   "metadata": {},
   "source": [
    "In this project, the two areas to be studyed have regions that are under 2,000 feet in elevation with riparian areas that could potentially support native rivercane. I will explore soil composition, pH and precipitation to see if it is also within suitable parameters. From this information, a model will be used to:\n",
    "\n",
    "* harmonize data from different sources\n",
    "* determine the feasibility of restoration efforts in both locations\n",
    "\n",
    "At this point - December 2024 - I have been able to download most of the data and cropped it to fit Cherokee County Oklahoma and Jackson County North Carolina. It is my intention to complete the modeling at a later date. I provide an outline of what those next steps will be to provide a tool for others to use."
   ]
  }
 ],
 "metadata": {
  "kernelspec": {
   "display_name": "earth-analytics-python",
   "language": "python",
   "name": "python3"
  },
  "language_info": {
   "name": "python",
   "version": "3.11.10"
  }
 },
 "nbformat": 4,
 "nbformat_minor": 2
}
