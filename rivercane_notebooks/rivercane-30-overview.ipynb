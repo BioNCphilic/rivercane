{
 "cells": [
  {
   "cell_type": "markdown",
   "metadata": {},
   "source": [
    "## Rivercane is native to 22 states in the US and has been reduced to 2% of it's original range (Sharma, 2003). This project will explore habitats that might be suitable for restoration efforts in the future based upon two different climate predictions.\n",
    "\n",
    "### Habitat suitability will be compared between two counties in the United States; specifically, Cherokee County, Oklahoma and Jackson County, North Carolina. These areas were chosen because they are inhabited by Cherokee people who use native Rivercane for a variety of cultural purposes."
   ]
  },
  {
   "cell_type": "markdown",
   "metadata": {},
   "source": [
    "<!-- Define your study area\n",
    "\n",
    "Fit a model: \n",
    "\n",
    "Download model variables as raster layers covering your study area envelope:\n",
    "\n",
    "Calculate at least one derived topographic variable (slope or aspect)\n",
    "\n",
    "Harmonize your data - make sure that the grids for each of your layers match up. \n",
    "\n",
    "Build your model\n",
    "\n",
    "Present your results in at least one figure for each grassland/climate scenario combination.  -->"
   ]
  },
  {
   "cell_type": "markdown",
   "metadata": {},
   "source": [
    "## Information Sources\n",
    "* Sharma, Sanjeev. 2023, \"PROPAGATION, PHYSIOLOGY, AND BIOMASS OF GIANT CANE (ARUNDINARIA GIGANTEA) FOR CONSERVATION AND RESTORATION\", A Master’s Thesis Presented to The Graduate College of Missouri State University. accessed online at: https://bearworks.missouristate.edu/cgi/viewcontent.cgi?article=4887&context=theses\n",
    "* Watershed Boundary Dataset (WBD) (12-digit HUC, level 6, Southeastern USA) accessed online at: https://databasin.org/datasets/505e6e683e664925b2032e217c7edfe8/\n",
    "* Nickles, C., Taglialatela, C., McNelis, J., Gangl, M., Ou, C., Tarpinian, N., McDonald, V., Henze, D., Tebaldi, N., Greguska, F., Perez, S., Wang, J., Armstrong, E., Sanchez, J., Walschots, Z., Liu, S., & Gentemann, C. (2024). podaac/tutorials: PO.DAAC Cookbook v2024.01 (v2024.01.18). Zenodo. https://doi.org/10.5281/zenodo.10530664"
   ]
  },
  {
   "cell_type": "markdown",
   "metadata": {},
   "source": [
    "In this project, the two areas to be studyed have regions that are under 2,000 feet in elevation with riparian areas that could support native rivercane. I will explore soil composition to see if it is also within suitable parameters. From this information, a model will be used to:\n",
    "* analyze slope and aspect of the terrain\n",
    "* harmonize data from different sources\n",
    "* determine the feasibility of restoration efforts in both locations"
   ]
  }
 ],
 "metadata": {
  "kernelspec": {
   "display_name": "earth-analytics-python",
   "language": "python",
   "name": "python3"
  },
  "language_info": {
   "name": "python",
   "version": "3.11.10"
  }
 },
 "nbformat": 4,
 "nbformat_minor": 2
}
