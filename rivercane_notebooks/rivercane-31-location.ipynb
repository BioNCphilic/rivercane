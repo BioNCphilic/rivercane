{
 "cells": [
  {
   "cell_type": "code",
   "execution_count": 1,
   "metadata": {},
   "outputs": [],
   "source": [
    "import os # Interoperable file paths\n",
    "import pathlib  # Work with file and directory paths\n",
    "import re # Extract metadata from file names\n",
    "import zipfile # Work with zip files\n",
    "\n",
    "from glob import glob # Find files by pattern\n",
    "from io import BytesIO # Stream binary (zip) files\n",
    "\n",
    "import geopandas as gpd # Work with geospatial data\n",
    "import rasterio # Read, write, and manipulate raster datasets\n",
    "import rasterio.mask # Selectively extract portions of a raster dataset \n",
    "import subprocess"
   ]
  },
  {
   "cell_type": "code",
   "execution_count": 2,
   "metadata": {},
   "outputs": [],
   "source": [
    "# Define and create the project data directories\n",
    "data_dir = os.path.join(\n",
    "    pathlib.Path.home(),\n",
    "    'GitHub',\n",
    "    'habitat_project',\n",
    ")\n",
    "os.makedirs(data_dir, exist_ok=True)"
   ]
  },
  {
   "cell_type": "code",
   "execution_count": 3,
   "metadata": {},
   "outputs": [
    {
     "name": "stdout",
     "output_type": "stream",
     "text": [
      "Shapefile extracted successfully!\n"
     ]
    }
   ],
   "source": [
    "# Define download URL and file paths\n",
    "base_url = \"https://www2.census.gov/geo/tiger/TIGER2024/COUNTY/tl_2024_us_county.zip\"\n",
    " \n",
    "# Create the 'counties' directory if it doesn't exist\n",
    "county_dir = os.path.join(data_dir, \"counties\")\n",
    "os.makedirs(county_dir, exist_ok=True) \n",
    "\n",
    "# Download county data (if not already downloaded)\n",
    "if not os.path.exists(os.path.join(county_dir, \"tl_2024_us_county.zip\")):\n",
    "  county_response = requests.get(base_url)\n",
    "  county_response.raise_for_status()  # Raise exception on download errors\n",
    "\n",
    "  # Save the downloaded data (compressed) to the specified path\n",
    "  with open(os.path.join(county_dir, \"tl_2024_us_county.zip\"), \"wb\") as county_file:\n",
    "    county_file.write(county_response.content)\n",
    "\n",
    "# Extract the downloaded shapefile\n",
    "with zipfile.ZipFile(os.path.join(county_dir, \"tl_2024_us_county.zip\"), \"r\") as county_zip:\n",
    "  county_zip.extractall(county_dir)\n",
    "\n",
    "print(\"Shapefile extracted successfully!\")"
   ]
  },
  {
   "cell_type": "code",
   "execution_count": null,
   "metadata": {},
   "outputs": [],
   "source": []
  }
 ],
 "metadata": {
  "kernelspec": {
   "display_name": "earth-analytics-python",
   "language": "python",
   "name": "python3"
  },
  "language_info": {
   "codemirror_mode": {
    "name": "ipython",
    "version": 3
   },
   "file_extension": ".py",
   "mimetype": "text/x-python",
   "name": "python",
   "nbconvert_exporter": "python",
   "pygments_lexer": "ipython3",
   "version": "3.11.10"
  }
 },
 "nbformat": 4,
 "nbformat_minor": 2
}
