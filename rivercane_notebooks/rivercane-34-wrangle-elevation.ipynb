{
 "cells": [
  {
   "cell_type": "code",
   "execution_count": null,
   "metadata": {},
   "outputs": [],
   "source": [
    "# Load needed packages \n",
    "import requests\n",
    "import os # Interoperable file paths\n",
    "import pathlib  # Work with file and directory paths\n",
    "import re # Extract metadata from file names\n",
    "from math import floor, ceil\n",
    "\n",
    "from glob import glob # Find files by pattern\n",
    "from io import BytesIO # Stream binary (zip) files\n",
    "\n",
    "import earthaccess\n",
    "import geopandas as gpd # Work with geospatial data\n",
    "import rasterio as rio  # Read, write, and manipulate raster datasets\n",
    "import rasterio.mask # Selectively extract portions of a raster dataset \n",
    "import rioxarray as rxr\n",
    "import xrspatial\n",
    "import zipfile"
   ]
  },
  {
   "cell_type": "code",
   "execution_count": null,
   "metadata": {},
   "outputs": [],
   "source": [
    "# Retrieve location data\n",
    "%store -r"
   ]
  },
  {
   "cell_type": "code",
   "execution_count": null,
   "metadata": {},
   "outputs": [],
   "source": [
    "# Define and create the project data directories\n",
    "data_dir = os.path.join(\n",
    "    pathlib.Path.home(),\n",
    "    'GitHub',\n",
    "    'rivercane_data',\n",
    ")\n",
    "\n",
    "os.makedirs(data_dir, exist_ok=True)"
   ]
  },
  {
   "cell_type": "code",
   "execution_count": null,
   "metadata": {},
   "outputs": [],
   "source": [
    "cherokee_county.plot()"
   ]
  },
  {
   "cell_type": "code",
   "execution_count": null,
   "metadata": {},
   "outputs": [],
   "source": [
    "earthaccess.login()"
   ]
  },
  {
   "cell_type": "code",
   "execution_count": null,
   "metadata": {},
   "outputs": [],
   "source": [
    "datasets = earthaccess.search_datasets(keyword='SRTM DEM', count=11)\n",
    "for dataset in datasets:\n",
    "    print(dataset['umm']['ShortName'], dataset['umm']['EntryTitle'])\n"
   ]
  },
  {
   "cell_type": "code",
   "execution_count": null,
   "metadata": {},
   "outputs": [],
   "source": [
    "local_path = \"C:/Users/stem2/Documents/GitHub/rivercane_data\"  # Adjust the path for download\n",
    "\n",
    "bounds = tuple(cherokee_county.total_bounds)\n",
    "srtm_results = earthaccess.search_data(\n",
    "    short_name=\"SRTMGL1\", \n",
    "    bounding_box=bounds\n",
    ")\n",
    "\n",
    "earthaccess.download(srtm_results, local_path)"
   ]
  },
  {
   "cell_type": "code",
   "execution_count": null,
   "metadata": {},
   "outputs": [],
   "source": [
    "# Extract raster data from Oklahoma files\n",
    "def unzip_and_extract_raster(zip_file, output_dir):\n",
    "  \"\"\"\n",
    "  Unzips a ZIP file and extracts the raster data to a directory.\n",
    "\n",
    "  Args:\n",
    "      zip_file: The path to the ZIP file.\n",
    "      output_dir: The directory to extract the raster data.\n",
    "  \"\"\"\n",
    "  with zipfile.ZipFile(zip_file, 'r') as zip_ref:\n",
    "    for file in zip_ref.namelist():\n",
    "      if file.endswith(\".hgt\"):  # Check for .hgt extension (adjust for your format)\n",
    "        zip_ref.extract(file, output_dir)\n",
    "        # Optional: Extract data from raster using specific library (e.g., rasterio)\n",
    "        # if the extracted file format is supported (e.g., GeoTIFF)\n",
    "\n",
    "# Example usage:\n",
    "zip_files = [\n",
    "  \"C:\\\\Users\\\\stem2\\\\Documents\\\\GitHub\\\\rivercane_data\\\\N36W096.SRTMGL1.hgt.zip\",\n",
    "  \"C:\\\\Users\\\\stem2\\\\Documents\\\\GitHub\\\\rivercane_data\\\\N35W096.SRTMGL1.hgt.zip\",\n",
    "  \"C:\\\\Users\\\\stem2\\\\Documents\\\\GitHub\\\\rivercane_data\\\\N35W095.SRTMGL1.hgt.zip\",\n",
    "  \"C:\\\\Users\\\\stem2\\\\Documents\\\\GitHub\\\\rivercane_data\\\\N36W095.SRTMGL1.hgt.zip\"\n",
    "]\n",
    "output_directory = \"C:/Users/stem2/Documents/GitHub/rivercane_data/extracted_raster\"\n",
    "\n",
    "# Create the output directory if it doesn't exist\n",
    "os.makedirs(output_directory, exist_ok=True)\n",
    "\n",
    "for zip_file in zip_files:\n",
    "  unzip_and_extract_raster(zip_file, output_directory)\n",
    "\n",
    "print(\"OK Raster data extracted from ZIP files!\")"
   ]
  },
  {
   "cell_type": "code",
   "execution_count": null,
   "metadata": {},
   "outputs": [],
   "source": [
    "ok_strm_da = rxr.open_rasterio()"
   ]
  }
 ],
 "metadata": {
  "kernelspec": {
   "display_name": "earth-analytics-python",
   "language": "python",
   "name": "python3"
  },
  "language_info": {
   "name": "python",
   "version": "3.11.10"
  }
 },
 "nbformat": 4,
 "nbformat_minor": 2
}
