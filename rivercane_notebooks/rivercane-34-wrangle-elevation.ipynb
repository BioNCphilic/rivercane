{
 "cells": [
  {
   "cell_type": "code",
   "execution_count": 31,
   "metadata": {},
   "outputs": [],
   "source": [
    "# Load needed packages \n",
    "import requests\n",
    "import os # Interoperable file paths\n",
    "import pathlib  # Work with file and directory paths\n",
    "\n",
    "from glob import glob # Find files by pattern\n",
    "from io import BytesIO # Stream binary (zip) files\n",
    "\n",
    "import earthaccess\n",
    "import geopandas as gpd # Work with geospatial data\n",
    "import rasterio as rio  # Read, write, and manipulate raster datasets\n",
    "import rasterio.mask # Selectively extract portions of a raster dataset \n",
    "import rasterio.merge \n",
    "import rioxarray as rxr\n",
    "import rioxarray.merge as rxrmerge\n",
    "import xarray as xr\n",
    "import xrspatial\n"
   ]
  },
  {
   "cell_type": "code",
   "execution_count": 2,
   "metadata": {},
   "outputs": [],
   "source": [
    "# Retrieve location data\n",
    "%store -r"
   ]
  },
  {
   "cell_type": "code",
   "execution_count": 3,
   "metadata": {},
   "outputs": [],
   "source": [
    "# Define and create the project data directories\n",
    "data_dir = os.path.join(\n",
    "    pathlib.Path.home(),\n",
    "    'GitHub',\n",
    "    'rivercane_data'\n",
    ")\n",
    "\n",
    "os.makedirs(data_dir, exist_ok=True)"
   ]
  },
  {
   "cell_type": "code",
   "execution_count": 5,
   "metadata": {},
   "outputs": [
    {
     "data": {
      "text/plain": [
       "<Axes: >"
      ]
     },
     "execution_count": 5,
     "metadata": {},
     "output_type": "execute_result"
    },
    {
     "data": {
      "image/png": "[encoded data removed]",
      "text/plain": [
       "<Figure size 640x480 with 1 Axes>"
      ]
     },
     "metadata": {},
     "output_type": "display_data"
    }
   ],
   "source": [
    "cherokee_county.plot()"
   ]
  },
  {
   "cell_type": "code",
   "execution_count": 6,
   "metadata": {},
   "outputs": [
    {
     "data": {
      "text/plain": [
       "<earthaccess.auth.Auth at 0x117b1bb6250>"
      ]
     },
     "execution_count": 6,
     "metadata": {},
     "output_type": "execute_result"
    }
   ],
   "source": [
    "earthaccess.login()"
   ]
  },
  {
   "cell_type": "code",
   "execution_count": 7,
   "metadata": {},
   "outputs": [
    {
     "name": "stdout",
     "output_type": "stream",
     "text": [
      "NASADEM_SHHP NASADEM SRTM-only Height and Height Precision Mosaic Global 1 arc second V001\n",
      "NASADEM_SIM NASADEM SRTM Image Mosaic Global 1 arc second V001\n",
      "NASADEM_SSP NASADEM SRTM Subswath Global 1 arc second V001\n",
      "C_Pools_Fluxes_CONUS_1837 CMS: Terrestrial Carbon Stocks, Emissions, and Fluxes for Conterminous US, 2001-2016\n",
      "SRTMGL1 NASA Shuttle Radar Topography Mission Global 1 arc second V003\n",
      "GEDI01_B GEDI L1B Geolocated Waveform Data Global Footprint Level V002\n",
      "GEDI02_B GEDI L2B Canopy Cover and Vertical Profile Metrics Data Global Footprint Level V002\n",
      "NASADEM_HGT NASADEM Merged DEM Global 1 arc second V001\n",
      "SRTMGL3 NASA Shuttle Radar Topography Mission Global 3 arc second V003\n",
      "SRTMGL1_NC NASA Shuttle Radar Topography Mission Global 1 arc second NetCDF V003\n",
      "SRTMGL30 NASA Shuttle Radar Topography Mission Global 30 arc second V002\n"
     ]
    }
   ],
   "source": [
    "datasets = earthaccess.search_datasets(keyword='SRTM DEM', count=11)\n",
    "for dataset in datasets:\n",
    "    print(dataset['umm']['ShortName'], dataset['umm']['EntryTitle'])\n"
   ]
  },
  {
   "cell_type": "code",
   "execution_count": 15,
   "metadata": {},
   "outputs": [
    {
     "data": {
      "application/vnd.jupyter.widget-view+json": {
       "model_id": "be23444869a549e2ac6794e8b74e5cad",
       "version_major": 2,
       "version_minor": 0
      },
      "text/plain": [
       "QUEUEING TASKS | :   0%|          | 0/4 [00:00<?, ?it/s]"
      ]
     },
     "metadata": {},
     "output_type": "display_data"
    },
    {
     "data": {
      "application/vnd.jupyter.widget-view+json": {
       "model_id": "0da1cc337e0a4e10b723421ead93c5df",
       "version_major": 2,
       "version_minor": 0
      },
      "text/plain": [
       "PROCESSING TASKS | :   0%|          | 0/4 [00:00<?, ?it/s]"
      ]
     },
     "metadata": {},
     "output_type": "display_data"
    },
    {
     "data": {
      "application/vnd.jupyter.widget-view+json": {
       "model_id": "7c63ecf137654e2981b2c60574392161",
       "version_major": 2,
       "version_minor": 0
      },
      "text/plain": [
       "COLLECTING RESULTS | :   0%|          | 0/4 [00:00<?, ?it/s]"
      ]
     },
     "metadata": {},
     "output_type": "display_data"
    }
   ],
   "source": [
    "ok_srtm_pattern = os.path.join(data_dir, '*.hgt.zip')\n",
    "if not glob(ok_srtm_pattern):\n",
    "    bounds = tuple(cherokee_county.total_bounds)\n",
    "    ok_srtm_results = earthaccess.search_data(\n",
    "    short_name=\"SRTMGL1\", \n",
    "    bounding_box=bounds\n",
    "    )\n",
    "    ok_srtm_results = earthaccess.download(ok_srtm_results, data_dir)"
   ]
  },
  {
   "cell_type": "code",
   "execution_count": 16,
   "metadata": {},
   "outputs": [
    {
     "data": {
      "text/plain": [
       "['C:\\\\Users\\\\stem2\\\\GitHub\\\\rivercane_data\\\\N36W096.SRTMGL1.hgt.zip',\n",
       " 'C:\\\\Users\\\\stem2\\\\GitHub\\\\rivercane_data\\\\N35W096.SRTMGL1.hgt.zip',\n",
       " 'C:\\\\Users\\\\stem2\\\\GitHub\\\\rivercane_data\\\\N35W095.SRTMGL1.hgt.zip',\n",
       " 'C:\\\\Users\\\\stem2\\\\GitHub\\\\rivercane_data\\\\N36W095.SRTMGL1.hgt.zip']"
      ]
     },
     "execution_count": 16,
     "metadata": {},
     "output_type": "execute_result"
    }
   ],
   "source": [
    "ok_srtm_results"
   ]
  },
  {
   "cell_type": "code",
   "execution_count": 33,
   "metadata": {},
   "outputs": [
    {
     "data": {
      "text/plain": [
       "(array([4.1247230e+06, 2.1422059e+07, 1.2164203e+07, 7.9140330e+06,\n",
       "        4.7131360e+06, 9.1116400e+05, 4.4048000e+05, 1.4000100e+05,\n",
       "        3.8054000e+04, 9.5100000e+02]),\n",
       " array([ 93.        , 162.30000305, 231.6000061 , 300.90002441,\n",
       "        370.20001221, 439.5       , 508.80001831, 578.10003662,\n",
       "        647.40002441, 716.70001221, 786.        ]),\n",
       " <BarContainer object of 10 artists>)"
      ]
     },
     "execution_count": 33,
     "metadata": {},
     "output_type": "execute_result"
    },
    {
     "data": {
      "image/png": "[encoded data removed]",
      "text/plain": [
       "<Figure size 640x480 with 1 Axes>"
      ]
     },
     "metadata": {},
     "output_type": "display_data"
    }
   ],
   "source": [
    "ok_srtm_da_list = []\n",
    "for ok_srtm_path in glob(ok_srtm_pattern):\n",
    "    ok_tile_da = rxr.open_rasterio(ok_srtm_path, mask_and_scale=True).squeeze()\n",
    "    ok_srtm_da_list.append(ok_tile_da)\n",
    "\n",
    "ok_srtm_da = xr.concat(ok_srtm_da_list, dim='dim_0')\n",
    "ok_srtm_da.plot()"
   ]
  },
  {
   "cell_type": "code",
   "execution_count": 22,
   "metadata": {},
   "outputs": [
    {
     "data": {
      "text/plain": [
       "<Axes: >"
      ]
     },
     "execution_count": 22,
     "metadata": {},
     "output_type": "execute_result"
    },
    {
     "data": {
      "image/png": "[encoded data removed]",
      "text/plain": [
       "<Figure size 640x480 with 1 Axes>"
      ]
     },
     "metadata": {},
     "output_type": "display_data"
    }
   ],
   "source": [
    "jackson_county.plot()"
   ]
  },
  {
   "cell_type": "code",
   "execution_count": 25,
   "metadata": {},
   "outputs": [],
   "source": [
    "# Define different data directory for NC\n",
    "nc_data_dir = os.path.join(\n",
    "    pathlib.Path.home(),\n",
    "    'GitHub',\n",
    "    'habitat_project'\n",
    ")\n",
    "\n",
    "os.makedirs(nc_data_dir, exist_ok=True)"
   ]
  },
  {
   "cell_type": "code",
   "execution_count": 26,
   "metadata": {},
   "outputs": [
    {
     "data": {
      "application/vnd.jupyter.widget-view+json": {
       "model_id": "289d5ed5e04949cd9bb2b36c68d291b3",
       "version_major": 2,
       "version_minor": 0
      },
      "text/plain": [
       "QUEUEING TASKS | :   0%|          | 0/2 [00:00<?, ?it/s]"
      ]
     },
     "metadata": {},
     "output_type": "display_data"
    },
    {
     "data": {
      "application/vnd.jupyter.widget-view+json": {
       "model_id": "3b0b2b2f7f004947b8b77b62fd616974",
       "version_major": 2,
       "version_minor": 0
      },
      "text/plain": [
       "PROCESSING TASKS | :   0%|          | 0/2 [00:00<?, ?it/s]"
      ]
     },
     "metadata": {},
     "output_type": "display_data"
    },
    {
     "data": {
      "application/vnd.jupyter.widget-view+json": {
       "model_id": "d1fdb1341c634b50a054b36e1eaf1443",
       "version_major": 2,
       "version_minor": 0
      },
      "text/plain": [
       "COLLECTING RESULTS | :   0%|          | 0/2 [00:00<?, ?it/s]"
      ]
     },
     "metadata": {},
     "output_type": "display_data"
    }
   ],
   "source": [
    "nc_srtm_pattern = os.path.join(nc_data_dir, '*.hgt.zip')\n",
    "if not glob(nc_srtm_pattern):\n",
    "    bounds = tuple(jackson_county.total_bounds)\n",
    "    nc_srtm_results = earthaccess.search_data(\n",
    "    short_name=\"SRTMGL1\", \n",
    "    bounding_box=bounds\n",
    "    )\n",
    "    nc_srtm_results = earthaccess.download(nc_srtm_results, nc_data_dir)"
   ]
  },
  {
   "cell_type": "code",
   "execution_count": 27,
   "metadata": {},
   "outputs": [
    {
     "data": {
      "text/plain": [
       "['C:\\\\Users\\\\stem2\\\\GitHub\\\\habitat_project\\\\N35W083.SRTMGL1.hgt.zip',\n",
       " 'C:\\\\Users\\\\stem2\\\\GitHub\\\\habitat_project\\\\N35W084.SRTMGL1.hgt.zip']"
      ]
     },
     "execution_count": 27,
     "metadata": {},
     "output_type": "execute_result"
    }
   ],
   "source": [
    "nc_srtm_results"
   ]
  },
  {
   "cell_type": "code",
   "execution_count": 35,
   "metadata": {},
   "outputs": [
    {
     "data": {
      "text/plain": [
       "(array([4203820., 2834613., 5872891., 5154210., 3655523., 2392401.,\n",
       "        1138380.,  496759.,  166249.,   19556.]),\n",
       " array([ 187.        ,  371.20001221,  555.40002441,  739.59997559,\n",
       "         923.79998779, 1108.        , 1292.19995117, 1476.40002441,\n",
       "        1660.59997559, 1844.79992676, 2029.        ]),\n",
       " <BarContainer object of 10 artists>)"
      ]
     },
     "execution_count": 35,
     "metadata": {},
     "output_type": "execute_result"
    },
    {
     "data": {
      "image/png": "[encoded data removed]",
      "text/plain": [
       "<Figure size 640x480 with 1 Axes>"
      ]
     },
     "metadata": {},
     "output_type": "display_data"
    }
   ],
   "source": [
    "nc_srtm_da_list = []\n",
    "for nc_srtm_path in glob(nc_srtm_pattern):\n",
    "    nc_tile_da = rxr.open_rasterio(nc_srtm_path, mask_and_scale=True).squeeze()\n",
    "    nc_srtm_da_list.append(nc_tile_da)\n",
    "\n",
    "nc_srtm_da = xr.concat(nc_srtm_da_list, dim='dim_0')\n",
    "nc_srtm_da.plot()"
   ]
  }
 ],
 "metadata": {
  "kernelspec": {
   "display_name": "earth-analytics-python",
   "language": "python",
   "name": "python3"
  },
  "language_info": {
   "codemirror_mode": {
    "name": "ipython",
    "version": 3
   },
   "file_extension": ".py",
   "mimetype": "text/x-python",
   "name": "python",
   "nbconvert_exporter": "python",
   "pygments_lexer": "ipython3",
   "version": "3.11.10"
  }
 },
 "nbformat": 4,
 "nbformat_minor": 2
}
