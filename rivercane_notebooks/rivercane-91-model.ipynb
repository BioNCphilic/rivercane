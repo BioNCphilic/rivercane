{
 "cells": [
  {
   "cell_type": "markdown",
   "metadata": {},
   "source": [
    "# Where to go from here?\n",
    "So far, I have downloaded three different data arrays for each site, plus an estimate for precipitation based upon a climate model. Rivercane (_Arundinaria gigantea_) prefers sandy soils with a pH between 6.8-7.2 and temperatures between negative 9.4 to 106 degrees Fahrenheit. However, I ran out of time before compiling all this data into an array that I could evaluate.  \n",
    "\n",
    "One conclusion that can be drawn from the elevation data is that the entire county in Oklahoma is suitable with elevation consistently under 2,000 ft (609.6 m). The North Carolina county is more variable with some locations not suitable for rivercane restoration. \n",
    "\n",
    "If I had more time to work on this project, these are the next steps that would be used to further evaluate sites in Cherokee County OK and Jackson County NC:\n",
    "\n",
    "1. Reproject all raster data using rasterio as outlined here: https://www.earthdatascience.org/courses/use-data-open-source-python/intro-raster-data-python/raster-data-processing/reproject-raster/ making sure that the coordinate reference system, resolution and grid points are all harmonized.\n",
    "\n",
    "2. For all raster data arrays reclassify based on two classes - suitable (1) or not suitable (0) following this guide: https://www.earthdatascience.org/courses/use-data-open-source-python/intro-raster-data-python/raster-data-processing/classify-plot-raster-data-in-python/\n",
    "\n",
    "3. Use xarray to combine all the data arrays into a single dataset and plot to identify areas that meet all requirements for rivercane habitat.\n",
    "\n",
    "\n",
    "Repeat these steps for both locations using the GFDL-ESM2M model from this catalog: http://thredds.northwestknowledge.net:8080/thredds/catalog/MACAV2/GFDL-ESM2M/catalog.html?dataset=REACCHDatasetScan_GFDL-ESM2M_MACAV2/macav2metdata_pr_GFDL-ESM2M_r1i1p1_rcp45_2096_2099_CONUS_monthly.nc\n"
   ]
  },
  {
   "cell_type": "markdown",
   "metadata": {},
   "source": [
    "# Additional considerations\n",
    "Rivercane (_Arundinaria gigantea_) is adapted to elevations below 2,000 ft and periodic flooding and a Ksat value <1.4x10^3 cm/s. Therefore, additional datasets about surface water from Landsat Sentinel-2 -found here: https://podaac.jpl.nasa.gov/dataset/OPERA_L3_DSWX-HLS_V1 -using this tutorial https://podaac.github.io/tutorials/notebooks/datasets/OPERA_GIS_Cloud.html may be beneficial. \n",
    "\n",
    "In addition, it may make more sense to use the watershed boundary dataset found here instead of county Census data: https://databasin.org/datasets/505e6e683e664925b2032e217c7edfe8/"
   ]
  }
 ],
 "metadata": {
  "kernelspec": {
   "display_name": "earth-analytics-python",
   "language": "python",
   "name": "python3"
  },
  "language_info": {
   "name": "python",
   "version": "3.11.10"
  }
 },
 "nbformat": 4,
 "nbformat_minor": 2
}
