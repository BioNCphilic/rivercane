{
 "cells": [
  {
   "cell_type": "code",
   "execution_count": 1,
   "metadata": {},
   "outputs": [],
   "source": [
    "import requests\n",
    "import os # Interoperable file paths\n",
    "import pathlib  # Work with file and directory paths\n",
    "import re # Extract metadata from file names\n",
    "import zipfile # Work with zip files\n",
    "\n",
    "from glob import glob # Find files by pattern\n",
    "from io import BytesIO # Stream binary (zip) files\n",
    "\n",
    "import geopandas as gpd # Work with geospatial data\n",
    "import rasterio # Read, write, and manipulate raster datasets\n",
    "import rasterio.mask # Selectively extract portions of a raster dataset \n",
    "import subprocess"
   ]
  },
  {
   "cell_type": "code",
   "execution_count": null,
   "metadata": {},
   "outputs": [],
   "source": [
    "# Additional packages suggested from podaac tutorial\n",
    "import requests \n",
    "import json\n",
    "\n",
    "import s3fs\n",
    "\n",
    "import matplotlib.pyplot as plt\n",
    "from matplotlib.patches import Patch\n",
    "from mpl_toolkits.axes_grid1.inset_locator import inset_axes\n",
    "from mpl_toolkits.axes_grid1.inset_locator import zoomed_inset_axes \n",
    "from mpl_toolkits.axes_grid1.inset_locator import mark_inset\n",
    "import numpy as np\n",
    "\n",
    "from urllib.request import urlretrieve\n",
    "from json import dumps\n",
    "import earthaccess\n",
    "from earthaccess import Auth, DataCollections, DataGranules, Store"
   ]
  },
  {
   "cell_type": "code",
   "execution_count": null,
   "metadata": {},
   "outputs": [],
   "source": [
    "# Define and create the project data directories\n",
    "data_dir = os.path.join(\n",
    "    pathlib.Path.home(),\n",
    "    'GitHub',\n",
    "    'habitat_project',\n",
    ")\n",
    "os.makedirs(data_dir, exist_ok=True)"
   ]
  },
  {
   "cell_type": "code",
   "execution_count": null,
   "metadata": {},
   "outputs": [],
   "source": [
    "# Authentication with earthaccess\n",
    "auth = earthaccess.login(strategy=\"interactive\", persist=True)\n",
    "fs_s3 = Store(auth).get_s3_filesystem(\n",
    "    daac=\"PODAAC\", provider=\"POCLOUD\")\n",
    "\n",
    "# Search for Cherokee County OK granules\n",
    "ok_opera_results = earthaccess.search_data(\n",
    "    short_name=\"OPERA_L3_DSWX-HLS_V1\", \n",
    "    temporal= (\"2023-05-1\",\"2023-05-31\"), \n",
    "    bounding_box = ('-95.0380','35.9001','-94.80','36.35'))\n",
    "ok_opera_results\n"
   ]
  },
  {
   "cell_type": "code",
   "execution_count": null,
   "metadata": {},
   "outputs": [],
   "source": [
    "# Access Polaris Data\n",
    "ok_soil_url = (\"\")"
   ]
  }
 ],
 "metadata": {
  "kernelspec": {
   "display_name": "earth-analytics-python",
   "language": "python",
   "name": "python3"
  },
  "language_info": {
   "codemirror_mode": {
    "name": "ipython",
    "version": 3
   },
   "file_extension": ".py",
   "mimetype": "text/x-python",
   "name": "python",
   "nbconvert_exporter": "python",
   "pygments_lexer": "ipython3",
   "version": "3.11.10"
  }
 },
 "nbformat": 4,
 "nbformat_minor": 2
}
