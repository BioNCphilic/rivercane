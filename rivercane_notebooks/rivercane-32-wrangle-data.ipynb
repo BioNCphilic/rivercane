{
 "cells": [
  {
   "cell_type": "code",
   "execution_count": 1,
   "metadata": {},
   "outputs": [],
   "source": [
    "import os # Reproducible file paths\n",
    "import re # Extract metadata from file names\n",
    "import zipfile # Work with zip files\n",
    "from io import BytesIO # Stream binary (zip) files\n",
    "from glob import glob # Find files by pattern\n",
    "\n",
    "import numpy as np # Unpack bit-wise Fmask\n",
    "import matplotlib.pyplot as plt # Make subplots\n",
    "import requests # Request data over HTTP\n",
    "import rioxarray as rxr # Work with geospatial raster data"
   ]
  },
  {
   "cell_type": "code",
   "execution_count": null,
   "metadata": {},
   "outputs": [],
   "source": [
    "# Fit a model"
   ]
  }
 ],
 "metadata": {
  "kernelspec": {
   "display_name": "earth-analytics-python",
   "language": "python",
   "name": "python3"
  },
  "language_info": {
   "codemirror_mode": {
    "name": "ipython",
    "version": 3
   },
   "file_extension": ".py",
   "mimetype": "text/x-python",
   "name": "python",
   "nbconvert_exporter": "python",
   "pygments_lexer": "ipython3",
   "version": "3.11.10"
  }
 },
 "nbformat": 4,
 "nbformat_minor": 2
}
