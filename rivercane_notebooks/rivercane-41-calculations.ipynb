{
 "cells": [
  {
   "cell_type": "code",
   "execution_count": 1,
   "metadata": {},
   "outputs": [],
   "source": [
    "import os\n",
    "import pathlib\n",
    "\n",
    "import geopandas as gpd\n",
    "import pandas as pd\n",
    "import rioxarray as rxr\n",
    "import xarray as xr"
   ]
  },
  {
   "cell_type": "code",
   "execution_count": 2,
   "metadata": {},
   "outputs": [],
   "source": [
    "# Define and create the project data directories\n",
    "data_dir = os.path.join(\n",
    "    pathlib.Path.home(),\n",
    "    'GitHub',\n",
    "    'rivercane_data'\n",
    ")\n",
    "\n",
    "os.makedirs(data_dir, exist_ok=True)"
   ]
  },
  {
   "cell_type": "code",
   "execution_count": 3,
   "metadata": {},
   "outputs": [],
   "source": [
    "# Retrieve location data\n",
    "%store -r"
   ]
  },
  {
   "cell_type": "code",
   "execution_count": 4,
   "metadata": {},
   "outputs": [
    {
     "data": {
      "text/html": [
       "<div>\n",
       "<style scoped>\n",
       "    .dataframe tbody tr th:only-of-type {\n",
       "        vertical-align: middle;\n",
       "    }\n",
       "\n",
       "    .dataframe tbody tr th {\n",
       "        vertical-align: top;\n",
       "    }\n",
       "\n",
       "    .dataframe thead th {\n",
       "        text-align: right;\n",
       "    }\n",
       "</style>\n",
       "<table border=\"1\" class=\"dataframe\">\n",
       "  <thead>\n",
       "    <tr style=\"text-align: right;\">\n",
       "      <th></th>\n",
       "      <th>state_site</th>\n",
       "      <th>variable</th>\n",
       "      <th>start_year</th>\n",
       "    </tr>\n",
       "  </thead>\n",
       "  <tbody>\n",
       "    <tr>\n",
       "      <th>0</th>\n",
       "      <td>Oklahoma</td>\n",
       "      <td>pr</td>\n",
       "      <td>2096</td>\n",
       "    </tr>\n",
       "  </tbody>\n",
       "</table>\n",
       "</div>"
      ],
      "text/plain": [
       "  state_site variable  start_year\n",
       "0   Oklahoma       pr        2096"
      ]
     },
     "execution_count": 4,
     "metadata": {},
     "output_type": "execute_result"
    }
   ],
   "source": [
    "# Get climate model info from The Climate Model Intercomparison Project\n",
    "# Make coordinates compatible with shapefile for Oklahoma\n",
    "def convert_longitude(longitude):\n",
    "    \"\"\"Convert longitude range from 0-360 to -180-180\"\"\"\n",
    "    return (longitude -360) if longitude > 180 else longitude\n",
    "\n",
    "ok_miroc5_da_list = []\n",
    "for state_site, site_gdf in {'Oklahoma': cherokee_county}.items():\n",
    "    for variable in ['pr']:\n",
    "        for start_year in [2096]:\n",
    "            end_year = start_year + 3\n",
    "            miroc5_url = (\n",
    "                'http://thredds.northwestknowledge.net:8080'\n",
    "                '/thredds/dodsC/MACAV2/MIROC5/'\n",
    "                f'macav2metdata_{variable}_MIROC5_r1i1p1_rcp45_'\n",
    "                f'{start_year}_{end_year}_CONUS_monthly.nc')\n",
    "            ok_miroc5_da = xr.open_dataset(miroc5_url).squeeze().precipitation\n",
    "            bounds = cherokee_county.to_crs(ok_miroc5_da.rio.crs).total_bounds\n",
    "            ok_miroc5_da = ok_miroc5_da.assign_coords(\n",
    "                lon=(\"lon\", \n",
    "                     [convert_longitude(l) for l in ok_miroc5_da.lon.values]))\n",
    "            ok_miroc5_da = ok_miroc5_da.rio.set_spatial_dims(x_dim='lon', y_dim='lat')\n",
    "            ok_miroc5_da.rio.clip_box (*bounds) \n",
    "            ok_miroc5_da_list.append(dict(\n",
    "                state_site=state_site,\n",
    "                variable=variable,\n",
    "                start_year=start_year,\n",
    "                da=ok_miroc5_da))\n",
    "            \n",
    "oklahoma_df = pd.DataFrame(ok_miroc5_da_list)\n",
    "oklahoma_df[['state_site', 'variable', 'start_year']]"
   ]
  },
  {
   "cell_type": "code",
   "execution_count": 8,
   "metadata": {},
   "outputs": [
    {
     "data": {
      "text/html": [
       "<div>\n",
       "<style scoped>\n",
       "    .dataframe tbody tr th:only-of-type {\n",
       "        vertical-align: middle;\n",
       "    }\n",
       "\n",
       "    .dataframe tbody tr th {\n",
       "        vertical-align: top;\n",
       "    }\n",
       "\n",
       "    .dataframe thead th {\n",
       "        text-align: right;\n",
       "    }\n",
       "</style>\n",
       "<table border=\"1\" class=\"dataframe\">\n",
       "  <thead>\n",
       "    <tr style=\"text-align: right;\">\n",
       "      <th></th>\n",
       "      <th>state_site</th>\n",
       "      <th>variable</th>\n",
       "      <th>start_year</th>\n",
       "    </tr>\n",
       "  </thead>\n",
       "  <tbody>\n",
       "    <tr>\n",
       "      <th>0</th>\n",
       "      <td>North Carolina</td>\n",
       "      <td>pr</td>\n",
       "      <td>2096</td>\n",
       "    </tr>\n",
       "  </tbody>\n",
       "</table>\n",
       "</div>"
      ],
      "text/plain": [
       "       state_site variable  start_year\n",
       "0  North Carolina       pr        2096"
      ]
     },
     "execution_count": 8,
     "metadata": {},
     "output_type": "execute_result"
    }
   ],
   "source": [
    "# Get climate model info from The Climate Model Intercomparison Project\n",
    "# Make coordinates compatible with shapefile for North Carolina\n",
    "def convert_longitude(longitude):\n",
    "    \"\"\"Convert longitude range from 0-360 to -180-180\"\"\"\n",
    "    return (longitude -360) if longitude > 180 else longitude\n",
    "\n",
    "nc_miroc5_da_list = []\n",
    "for state_site, site_gdf in {'North Carolina': jackson_county}.items():\n",
    "    for variable in ['pr']:\n",
    "        for start_year in [2096]:\n",
    "            end_year = start_year + 3\n",
    "            miroc5_url = (\n",
    "                'http://thredds.northwestknowledge.net:8080'\n",
    "                '/thredds/dodsC/MACAV2/MIROC5/'\n",
    "                f'macav2metdata_{variable}_MIROC5_r1i1p1_rcp45_'\n",
    "                f'{start_year}_{end_year}_CONUS_monthly.nc')\n",
    "            nc_miroc5_da = xr.open_dataset(miroc5_url).squeeze().precipitation\n",
    "            nc_bounds = jackson_county.to_crs(nc_miroc5_da.rio.crs).total_bounds\n",
    "            nc_miroc5_da = nc_miroc5_da.assign_coords(\n",
    "                lon=(\"lon\", \n",
    "                     [convert_longitude(l) for l in nc_miroc5_da.lon.values]))\n",
    "            nc_miroc5_da = nc_miroc5_da.rio.set_spatial_dims(x_dim='lon', y_dim='lat')\n",
    "            nc_miroc5_da.rio.clip_box (*nc_bounds) \n",
    "            nc_miroc5_da_list.append(dict(\n",
    "                state_site=state_site,\n",
    "                variable=variable,\n",
    "                start_year=start_year,\n",
    "                da=nc_miroc5_da))\n",
    "            \n",
    "nc_df = pd.DataFrame(nc_miroc5_da_list)\n",
    "nc_df[['state_site', 'variable', 'start_year']]"
   ]
  }
 ],
 "metadata": {
  "kernelspec": {
   "display_name": "earth-analytics-python",
   "language": "python",
   "name": "python3"
  },
  "language_info": {
   "codemirror_mode": {
    "name": "ipython",
    "version": 3
   },
   "file_extension": ".py",
   "mimetype": "text/x-python",
   "name": "python",
   "nbconvert_exporter": "python",
   "pygments_lexer": "ipython3",
   "version": "3.11.10"
  }
 },
 "nbformat": 4,
 "nbformat_minor": 2
}
