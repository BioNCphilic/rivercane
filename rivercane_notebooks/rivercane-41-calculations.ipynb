{
 "cells": [
  {
   "cell_type": "code",
   "execution_count": 13,
   "metadata": {},
   "outputs": [],
   "source": [
    "import os\n",
    "import pathlib\n",
    "\n",
    "import geopandas as gpd\n",
    "import rioxarray as rxr\n",
    "import xarray as xr"
   ]
  },
  {
   "cell_type": "code",
   "execution_count": 14,
   "metadata": {},
   "outputs": [],
   "source": [
    "# Define and create the project data directories\n",
    "data_dir = os.path.join(\n",
    "    pathlib.Path.home(),\n",
    "    'GitHub',\n",
    "    'rivercane_data'\n",
    ")\n",
    "\n",
    "os.makedirs(data_dir, exist_ok=True)"
   ]
  },
  {
   "cell_type": "code",
   "execution_count": 15,
   "metadata": {},
   "outputs": [],
   "source": [
    "# Retrieve location data\n",
    "%store -r"
   ]
  },
  {
   "cell_type": "code",
   "execution_count": 44,
   "metadata": {},
   "outputs": [
    {
     "data": {
      "text/plain": [
       "[<xarray.DataArray 'precipitation' (time: 48, lat: 585, lon: 1386)> Size: 156MB\n",
       " [38918880 values with dtype=float32]\n",
       " Coordinates:\n",
       "   * lat      (lat) float64 5kB 25.06 25.1 25.15 25.19 ... 49.27 49.31 49.35 49.4\n",
       "     crs      int32 4B 1\n",
       "   * time     (time) object 384B 2096-01-15 00:00:00 ... 2099-12-15 00:00:00\n",
       "   * lon      (lon) float64 11kB -124.8 -124.7 -124.7 ... -67.15 -67.11 -67.06\n",
       " Attributes:\n",
       "     long_name:      Monthly Precipitation Amount\n",
       "     units:          mm\n",
       "     grid_mapping:   crs\n",
       "     standard_name:  precipitation\n",
       "     cell_methods:   time: sum(interval: 24 hours): sum over days\n",
       "     comments:       Total monthly precipitation at surface: includes both liq...\n",
       "     _ChunkSizes:    [  8 115 276]]"
      ]
     },
     "execution_count": 44,
     "metadata": {},
     "output_type": "execute_result"
    }
   ],
   "source": [
    "# Get climate model info from The Climate Model Intercomparison Project\n",
    "# First make coordinates compatible with shapefile\n",
    "def convert_longitude(longitude):\n",
    "    \"\"\"Convert longitude range from 0-360 to -180-180\"\"\"\n",
    "    return (longitude -360) if longitude > 180 else longitude\n",
    "\n",
    "ok_miroc5_da_list = []\n",
    "for site_gdf in [cherokee_county]:\n",
    "            miroc5_url = (\n",
    "                'http://thredds.northwestknowledge.net:8080'\n",
    "                '/thredds/dodsC/MACAV2/MIROC5/'\n",
    "                'macav2metdata_pr_MIROC5_r1i1p1_rcp45_'\n",
    "                '2096_2099_CONUS_monthly.nc')\n",
    "            ok_miroc5_da = xr.open_dataset(miroc5_url).squeeze().precipitation\n",
    "            bounds = cherokee_county.to_crs(ok_miroc5_da.rio.crs).total_bounds\n",
    "            bounds\n",
    "            ok_miroc5_da = ok_miroc5_da.assign_coords(\n",
    "                lon=(\"lon\", \n",
    "                     [convert_longitude(l) for l in ok_miroc5_da.lon.values]))\n",
    "            ok_miroc5_da = ok_miroc5_da.rio.set_spatial_dims(x_dim='lon', y_dim='lat')\n",
    "            ok_miroc5_da.rio.clip_box (*bounds) \n",
    "            ok_miroc5_da_list.append(ok_miroc5_da)\n",
    "ok_miroc5_da_list"
   ]
  }
 ],
 "metadata": {
  "kernelspec": {
   "display_name": "earth-analytics-python",
   "language": "python",
   "name": "python3"
  },
  "language_info": {
   "codemirror_mode": {
    "name": "ipython",
    "version": 3
   },
   "file_extension": ".py",
   "mimetype": "text/x-python",
   "name": "python",
   "nbconvert_exporter": "python",
   "pygments_lexer": "ipython3",
   "version": "3.11.10"
  }
 },
 "nbformat": 4,
 "nbformat_minor": 2
}
